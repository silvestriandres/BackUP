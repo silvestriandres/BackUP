{
 "cells": [
  {
   "cell_type": "code",
   "execution_count": 1,
   "metadata": {},
   "outputs": [],
   "source": [
    "import pandas as pd\n",
    "import numpy as np\n",
    "import matplotlib.pyplot as plt\n",
    "\n",
    "%matplotlib inline"
   ]
  },
  {
   "cell_type": "code",
   "execution_count": 2,
   "metadata": {
    "scrolled": true
   },
   "outputs": [
    {
     "data": {
      "text/html": [
       "<div>\n",
       "<style scoped>\n",
       "    .dataframe tbody tr th:only-of-type {\n",
       "        vertical-align: middle;\n",
       "    }\n",
       "\n",
       "    .dataframe tbody tr th {\n",
       "        vertical-align: top;\n",
       "    }\n",
       "\n",
       "    .dataframe thead th {\n",
       "        text-align: right;\n",
       "    }\n",
       "</style>\n",
       "<table border=\"1\" class=\"dataframe\">\n",
       "  <thead>\n",
       "    <tr style=\"text-align: right;\">\n",
       "      <th></th>\n",
       "      <th>idaviso</th>\n",
       "      <th>idpostulante</th>\n",
       "      <th>fechapostulacion</th>\n",
       "    </tr>\n",
       "  </thead>\n",
       "  <tbody>\n",
       "    <tr>\n",
       "      <th>0</th>\n",
       "      <td>1112257047</td>\n",
       "      <td>NM5M</td>\n",
       "      <td>2018-01-15 16:22:34</td>\n",
       "    </tr>\n",
       "    <tr>\n",
       "      <th>1</th>\n",
       "      <td>1111920714</td>\n",
       "      <td>NM5M</td>\n",
       "      <td>2018-02-06 09:04:50</td>\n",
       "    </tr>\n",
       "    <tr>\n",
       "      <th>2</th>\n",
       "      <td>1112346945</td>\n",
       "      <td>NM5M</td>\n",
       "      <td>2018-02-22 09:04:47</td>\n",
       "    </tr>\n",
       "    <tr>\n",
       "      <th>3</th>\n",
       "      <td>1112345547</td>\n",
       "      <td>NM5M</td>\n",
       "      <td>2018-02-22 09:04:59</td>\n",
       "    </tr>\n",
       "    <tr>\n",
       "      <th>4</th>\n",
       "      <td>1112237522</td>\n",
       "      <td>5awk</td>\n",
       "      <td>2018-01-25 18:55:03</td>\n",
       "    </tr>\n",
       "  </tbody>\n",
       "</table>\n",
       "</div>"
      ],
      "text/plain": [
       "      idaviso idpostulante     fechapostulacion\n",
       "0  1112257047         NM5M  2018-01-15 16:22:34\n",
       "1  1111920714         NM5M  2018-02-06 09:04:50\n",
       "2  1112346945         NM5M  2018-02-22 09:04:47\n",
       "3  1112345547         NM5M  2018-02-22 09:04:59\n",
       "4  1112237522         5awk  2018-01-25 18:55:03"
      ]
     },
     "execution_count": 2,
     "metadata": {},
     "output_type": "execute_result"
    }
   ],
   "source": [
    "business = pd.read_csv('fiuba_4_postulaciones.csv')\n",
    "business.head()"
   ]
  },
  {
   "cell_type": "code",
   "execution_count": 3,
   "metadata": {},
   "outputs": [],
   "source": [
    "business_index = business.index\n",
    "business_columns = business.columns\n",
    "business_data = business.values"
   ]
  },
  {
   "cell_type": "code",
   "execution_count": 4,
   "metadata": {},
   "outputs": [
    {
     "data": {
      "text/plain": [
       "Index([u'idaviso', u'idpostulante', u'fechapostulacion'], dtype='object')"
      ]
     },
     "execution_count": 4,
     "metadata": {},
     "output_type": "execute_result"
    }
   ],
   "source": [
    "business_columns"
   ]
  },
  {
   "cell_type": "code",
   "execution_count": 5,
   "metadata": {},
   "outputs": [
    {
     "data": {
      "text/plain": [
       "idaviso              int64\n",
       "idpostulante        object\n",
       "fechapostulacion    object\n",
       "dtype: object"
      ]
     },
     "execution_count": 5,
     "metadata": {},
     "output_type": "execute_result"
    }
   ],
   "source": [
    "business.dtypes"
   ]
  },
  {
   "cell_type": "code",
   "execution_count": 7,
   "metadata": {},
   "outputs": [
    {
     "data": {
      "text/plain": [
       "idaviso             False\n",
       "idpostulante        False\n",
       "fechapostulacion    False\n",
       "dtype: bool"
      ]
     },
     "execution_count": 7,
     "metadata": {},
     "output_type": "execute_result"
    }
   ],
   "source": [
    "business.isnull().any()"
   ]
  },
  {
   "cell_type": "code",
   "execution_count": 8,
   "metadata": {},
   "outputs": [
    {
     "ename": "AttributeError",
     "evalue": "'DataFrame' object has no attribute 'hasnans'",
     "output_type": "error",
     "traceback": [
      "\u001b[0;31m---------------------------------------------------------------------------\u001b[0m",
      "\u001b[0;31mAttributeError\u001b[0m                            Traceback (most recent call last)",
      "\u001b[0;32m<ipython-input-8-4f90bef20a1e>\u001b[0m in \u001b[0;36m<module>\u001b[0;34m()\u001b[0m\n\u001b[1;32m      1\u001b[0m \u001b[0;31m# We can also check if there are null values by using hasnans attribute:\u001b[0m\u001b[0;34m\u001b[0m\u001b[0;34m\u001b[0m\u001b[0m\n\u001b[0;32m----> 2\u001b[0;31m \u001b[0mbusiness\u001b[0m\u001b[0;34m.\u001b[0m\u001b[0mhasnans\u001b[0m\u001b[0;34m\u001b[0m\u001b[0m\n\u001b[0m",
      "\u001b[0;32m/usr/local/lib/python2.7/dist-packages/pandas/core/generic.pyc\u001b[0m in \u001b[0;36m__getattr__\u001b[0;34m(self, name)\u001b[0m\n\u001b[1;32m   3612\u001b[0m             \u001b[0;32mif\u001b[0m \u001b[0mname\u001b[0m \u001b[0;32min\u001b[0m \u001b[0mself\u001b[0m\u001b[0;34m.\u001b[0m\u001b[0m_info_axis\u001b[0m\u001b[0;34m:\u001b[0m\u001b[0;34m\u001b[0m\u001b[0m\n\u001b[1;32m   3613\u001b[0m                 \u001b[0;32mreturn\u001b[0m \u001b[0mself\u001b[0m\u001b[0;34m[\u001b[0m\u001b[0mname\u001b[0m\u001b[0;34m]\u001b[0m\u001b[0;34m\u001b[0m\u001b[0m\n\u001b[0;32m-> 3614\u001b[0;31m             \u001b[0;32mreturn\u001b[0m \u001b[0mobject\u001b[0m\u001b[0;34m.\u001b[0m\u001b[0m__getattribute__\u001b[0m\u001b[0;34m(\u001b[0m\u001b[0mself\u001b[0m\u001b[0;34m,\u001b[0m \u001b[0mname\u001b[0m\u001b[0;34m)\u001b[0m\u001b[0;34m\u001b[0m\u001b[0m\n\u001b[0m\u001b[1;32m   3615\u001b[0m \u001b[0;34m\u001b[0m\u001b[0m\n\u001b[1;32m   3616\u001b[0m     \u001b[0;32mdef\u001b[0m \u001b[0m__setattr__\u001b[0m\u001b[0;34m(\u001b[0m\u001b[0mself\u001b[0m\u001b[0;34m,\u001b[0m \u001b[0mname\u001b[0m\u001b[0;34m,\u001b[0m \u001b[0mvalue\u001b[0m\u001b[0;34m)\u001b[0m\u001b[0;34m:\u001b[0m\u001b[0;34m\u001b[0m\u001b[0m\n",
      "\u001b[0;31mAttributeError\u001b[0m: 'DataFrame' object has no attribute 'hasnans'"
     ]
    }
   ],
   "source": [
    "# We can also check if there are null values by using hasnans attribute:\n",
    "business.hasnans"
   ]
  },
  {
   "cell_type": "code",
   "execution_count": 9,
   "metadata": {},
   "outputs": [
    {
     "data": {
      "text/plain": [
       "count                 3401623\n",
       "unique                1940105\n",
       "top       2018-01-17 07:03:36\n",
       "freq                       25\n",
       "Name: fechapostulacion, dtype: object"
      ]
     },
     "execution_count": 9,
     "metadata": {},
     "output_type": "execute_result"
    }
   ],
   "source": [
    "business['fechapostulacion'].describe()"
   ]
  },
  {
   "cell_type": "code",
   "execution_count": 10,
   "metadata": {},
   "outputs": [],
   "source": [
    "#Selecting two columns with different data types:\n",
    "fechapostulacion = business['fechapostulacion']\n",
    "idpostulante = business['idpostulante']\n",
    "idaviso = business['idaviso']"
   ]
  },
  {
   "cell_type": "code",
   "execution_count": 12,
   "metadata": {},
   "outputs": [
    {
     "data": {
      "text/plain": [
       "False"
      ]
     },
     "execution_count": 12,
     "metadata": {},
     "output_type": "execute_result"
    }
   ],
   "source": [
    "fechapostulacion.hasnans"
   ]
  },
  {
   "cell_type": "code",
   "execution_count": 13,
   "metadata": {},
   "outputs": [
    {
     "data": {
      "text/plain": [
       "False"
      ]
     },
     "execution_count": 13,
     "metadata": {},
     "output_type": "execute_result"
    }
   ],
   "source": [
    "idpostulante.hasnans"
   ]
  },
  {
   "cell_type": "code",
   "execution_count": 14,
   "metadata": {},
   "outputs": [
    {
     "data": {
      "text/plain": [
       "False"
      ]
     },
     "execution_count": 14,
     "metadata": {},
     "output_type": "execute_result"
    }
   ],
   "source": [
    "idaviso.hasnans"
   ]
  },
  {
   "cell_type": "code",
   "execution_count": 15,
   "metadata": {},
   "outputs": [],
   "source": [
    "fechapostulacion = pd.to_datetime(fechapostulacion)"
   ]
  },
  {
   "cell_type": "code",
   "execution_count": 16,
   "metadata": {},
   "outputs": [
    {
     "data": {
      "text/plain": [
       "idaviso              int64\n",
       "idpostulante        object\n",
       "fechapostulacion    object\n",
       "dtype: object"
      ]
     },
     "execution_count": 16,
     "metadata": {},
     "output_type": "execute_result"
    }
   ],
   "source": [
    "business.dtypes"
   ]
  },
  {
   "cell_type": "code",
   "execution_count": 17,
   "metadata": {},
   "outputs": [
    {
     "data": {
      "text/plain": [
       "dtype('<M8[ns]')"
      ]
     },
     "execution_count": 17,
     "metadata": {},
     "output_type": "execute_result"
    }
   ],
   "source": [
    "fechapostulacion.dtypes"
   ]
  },
  {
   "cell_type": "code",
   "execution_count": 18,
   "metadata": {},
   "outputs": [
    {
     "data": {
      "text/plain": [
       "dtype('<M8[ns]')"
      ]
     },
     "execution_count": 18,
     "metadata": {},
     "output_type": "execute_result"
    }
   ],
   "source": [
    "fechapostulacion.dtype"
   ]
  },
  {
   "cell_type": "code",
   "execution_count": 19,
   "metadata": {},
   "outputs": [
    {
     "ename": "AttributeError",
     "evalue": "'Series' object has no attribute 'day'",
     "output_type": "error",
     "traceback": [
      "\u001b[0;31m---------------------------------------------------------------------------\u001b[0m",
      "\u001b[0;31mAttributeError\u001b[0m                            Traceback (most recent call last)",
      "\u001b[0;32m<ipython-input-19-cb83299fe8ed>\u001b[0m in \u001b[0;36m<module>\u001b[0;34m()\u001b[0m\n\u001b[0;32m----> 1\u001b[0;31m \u001b[0mfechapostulacion\u001b[0m\u001b[0;34m.\u001b[0m\u001b[0mday\u001b[0m\u001b[0;34m\u001b[0m\u001b[0m\n\u001b[0m",
      "\u001b[0;32m/usr/local/lib/python2.7/dist-packages/pandas/core/generic.pyc\u001b[0m in \u001b[0;36m__getattr__\u001b[0;34m(self, name)\u001b[0m\n\u001b[1;32m   3612\u001b[0m             \u001b[0;32mif\u001b[0m \u001b[0mname\u001b[0m \u001b[0;32min\u001b[0m \u001b[0mself\u001b[0m\u001b[0;34m.\u001b[0m\u001b[0m_info_axis\u001b[0m\u001b[0;34m:\u001b[0m\u001b[0;34m\u001b[0m\u001b[0m\n\u001b[1;32m   3613\u001b[0m                 \u001b[0;32mreturn\u001b[0m \u001b[0mself\u001b[0m\u001b[0;34m[\u001b[0m\u001b[0mname\u001b[0m\u001b[0;34m]\u001b[0m\u001b[0;34m\u001b[0m\u001b[0m\n\u001b[0;32m-> 3614\u001b[0;31m             \u001b[0;32mreturn\u001b[0m \u001b[0mobject\u001b[0m\u001b[0;34m.\u001b[0m\u001b[0m__getattribute__\u001b[0m\u001b[0;34m(\u001b[0m\u001b[0mself\u001b[0m\u001b[0;34m,\u001b[0m \u001b[0mname\u001b[0m\u001b[0;34m)\u001b[0m\u001b[0;34m\u001b[0m\u001b[0m\n\u001b[0m\u001b[1;32m   3615\u001b[0m \u001b[0;34m\u001b[0m\u001b[0m\n\u001b[1;32m   3616\u001b[0m     \u001b[0;32mdef\u001b[0m \u001b[0m__setattr__\u001b[0m\u001b[0;34m(\u001b[0m\u001b[0mself\u001b[0m\u001b[0;34m,\u001b[0m \u001b[0mname\u001b[0m\u001b[0;34m,\u001b[0m \u001b[0mvalue\u001b[0m\u001b[0;34m)\u001b[0m\u001b[0;34m:\u001b[0m\u001b[0;34m\u001b[0m\u001b[0m\n",
      "\u001b[0;31mAttributeError\u001b[0m: 'Series' object has no attribute 'day'"
     ]
    }
   ],
   "source": [
    "fechapostulacion.day"
   ]
  },
  {
   "cell_type": "code",
   "execution_count": 20,
   "metadata": {},
   "outputs": [
    {
     "data": {
      "text/plain": [
       "0         2018-01-15 16:22:34\n",
       "1         2018-02-06 09:04:50\n",
       "2         2018-02-22 09:04:47\n",
       "3         2018-02-22 09:04:59\n",
       "4         2018-01-25 18:55:03\n",
       "5         2018-01-29 13:34:44\n",
       "6         2018-02-07 20:49:22\n",
       "7         2018-02-07 20:50:13\n",
       "8         2018-02-07 20:51:15\n",
       "9         2018-02-09 20:24:57\n",
       "10        2018-02-18 23:49:34\n",
       "11        2018-02-19 00:01:20\n",
       "12        2018-02-28 15:54:28\n",
       "13        2018-02-28 15:54:47\n",
       "14        2018-02-28 15:56:43\n",
       "15        2018-02-28 15:57:35\n",
       "16        2018-02-28 15:59:14\n",
       "17        2018-02-28 16:00:06\n",
       "18        2018-02-28 16:00:41\n",
       "19        2018-02-28 16:02:15\n",
       "20        2018-01-24 15:07:39\n",
       "21        2018-01-24 15:20:10\n",
       "22        2018-01-26 08:37:04\n",
       "23        2018-01-30 13:35:48\n",
       "24        2018-01-31 08:41:05\n",
       "25        2018-01-31 08:55:20\n",
       "26        2018-02-03 15:55:15\n",
       "27        2018-02-07 09:56:22\n",
       "28        2018-02-09 10:29:54\n",
       "29        2018-02-11 17:49:26\n",
       "                  ...        \n",
       "3401593   2018-02-28 23:52:11\n",
       "3401594   2018-02-28 23:58:12\n",
       "3401595   2018-02-28 23:18:45\n",
       "3401596   2018-02-28 23:24:13\n",
       "3401597   2018-02-28 23:25:09\n",
       "3401598   2018-02-28 23:27:25\n",
       "3401599   2018-02-28 23:23:36\n",
       "3401600   2018-02-28 23:23:57\n",
       "3401601   2018-02-28 23:26:49\n",
       "3401602   2018-02-28 23:27:05\n",
       "3401603   2018-02-28 23:28:08\n",
       "3401604   2018-02-28 23:42:56\n",
       "3401605   2018-02-28 23:54:35\n",
       "3401606   2018-02-28 23:56:19\n",
       "3401607   2018-02-28 23:57:03\n",
       "3401608   2018-02-28 23:41:51\n",
       "3401609   2018-02-28 23:45:56\n",
       "3401610   2018-02-28 23:47:27\n",
       "3401611   2018-02-28 23:48:49\n",
       "3401612   2018-02-28 23:50:42\n",
       "3401613   2018-02-28 23:56:53\n",
       "3401614   2018-02-28 23:57:22\n",
       "3401615   2018-02-28 23:58:32\n",
       "3401616   2018-02-28 23:59:34\n",
       "3401617   2018-02-28 23:49:46\n",
       "3401618   2018-02-28 23:54:44\n",
       "3401619   2018-02-28 23:57:43\n",
       "3401620   2018-02-28 23:52:13\n",
       "3401621   2018-02-28 23:59:06\n",
       "3401622   2018-02-28 23:56:10\n",
       "Name: fechapostulacion, Length: 3401623, dtype: datetime64[ns]"
      ]
     },
     "execution_count": 20,
     "metadata": {},
     "output_type": "execute_result"
    }
   ],
   "source": [
    " pd.to_datetime(fechapostulacion)"
   ]
  },
  {
   "cell_type": "code",
   "execution_count": 21,
   "metadata": {},
   "outputs": [],
   "source": [
    "business['fechapostulacion'] = pd.to_datetime(business['fechapostulacion'])"
   ]
  },
  {
   "cell_type": "code",
   "execution_count": 22,
   "metadata": {},
   "outputs": [
    {
     "data": {
      "text/plain": [
       "idaviso                      int64\n",
       "idpostulante                object\n",
       "fechapostulacion    datetime64[ns]\n",
       "dtype: object"
      ]
     },
     "execution_count": 22,
     "metadata": {},
     "output_type": "execute_result"
    }
   ],
   "source": [
    "business.dtypes"
   ]
  },
  {
   "cell_type": "code",
   "execution_count": 23,
   "metadata": {},
   "outputs": [
    {
     "data": {
      "text/plain": [
       "idaviso                      int64\n",
       "idpostulante                object\n",
       "fechapostulacion    datetime64[ns]\n",
       "dtype: object"
      ]
     },
     "execution_count": 23,
     "metadata": {},
     "output_type": "execute_result"
    }
   ],
   "source": [
    "business.dtypes"
   ]
  },
  {
   "cell_type": "code",
   "execution_count": 24,
   "metadata": {},
   "outputs": [
    {
     "data": {
      "text/plain": [
       "0             Monday\n",
       "1            Tuesday\n",
       "2           Thursday\n",
       "3           Thursday\n",
       "4           Thursday\n",
       "5             Monday\n",
       "6          Wednesday\n",
       "7          Wednesday\n",
       "8          Wednesday\n",
       "9             Friday\n",
       "10            Sunday\n",
       "11            Monday\n",
       "12         Wednesday\n",
       "13         Wednesday\n",
       "14         Wednesday\n",
       "15         Wednesday\n",
       "16         Wednesday\n",
       "17         Wednesday\n",
       "18         Wednesday\n",
       "19         Wednesday\n",
       "20         Wednesday\n",
       "21         Wednesday\n",
       "22            Friday\n",
       "23           Tuesday\n",
       "24         Wednesday\n",
       "25         Wednesday\n",
       "26          Saturday\n",
       "27         Wednesday\n",
       "28            Friday\n",
       "29            Sunday\n",
       "             ...    \n",
       "3401593    Wednesday\n",
       "3401594    Wednesday\n",
       "3401595    Wednesday\n",
       "3401596    Wednesday\n",
       "3401597    Wednesday\n",
       "3401598    Wednesday\n",
       "3401599    Wednesday\n",
       "3401600    Wednesday\n",
       "3401601    Wednesday\n",
       "3401602    Wednesday\n",
       "3401603    Wednesday\n",
       "3401604    Wednesday\n",
       "3401605    Wednesday\n",
       "3401606    Wednesday\n",
       "3401607    Wednesday\n",
       "3401608    Wednesday\n",
       "3401609    Wednesday\n",
       "3401610    Wednesday\n",
       "3401611    Wednesday\n",
       "3401612    Wednesday\n",
       "3401613    Wednesday\n",
       "3401614    Wednesday\n",
       "3401615    Wednesday\n",
       "3401616    Wednesday\n",
       "3401617    Wednesday\n",
       "3401618    Wednesday\n",
       "3401619    Wednesday\n",
       "3401620    Wednesday\n",
       "3401621    Wednesday\n",
       "3401622    Wednesday\n",
       "Name: fechapostulacion, Length: 3401623, dtype: object"
      ]
     },
     "execution_count": 24,
     "metadata": {},
     "output_type": "execute_result"
    }
   ],
   "source": [
    "business['fechapostulacion'].dt.weekday_name"
   ]
  },
  {
   "cell_type": "code",
   "execution_count": 25,
   "metadata": {},
   "outputs": [
    {
     "data": {
      "text/html": [
       "<div>\n",
       "<style scoped>\n",
       "    .dataframe tbody tr th:only-of-type {\n",
       "        vertical-align: middle;\n",
       "    }\n",
       "\n",
       "    .dataframe tbody tr th {\n",
       "        vertical-align: top;\n",
       "    }\n",
       "\n",
       "    .dataframe thead th {\n",
       "        text-align: right;\n",
       "    }\n",
       "</style>\n",
       "<table border=\"1\" class=\"dataframe\">\n",
       "  <thead>\n",
       "    <tr style=\"text-align: right;\">\n",
       "      <th></th>\n",
       "      <th>idaviso</th>\n",
       "    </tr>\n",
       "    <tr>\n",
       "      <th>fechapostulacion</th>\n",
       "      <th></th>\n",
       "    </tr>\n",
       "  </thead>\n",
       "  <tbody>\n",
       "    <tr>\n",
       "      <th>2018-01-15 00:00:01</th>\n",
       "      <td>1.112205e+09</td>\n",
       "    </tr>\n",
       "    <tr>\n",
       "      <th>2018-01-15 00:00:02</th>\n",
       "      <td>1.112255e+09</td>\n",
       "    </tr>\n",
       "    <tr>\n",
       "      <th>2018-01-15 00:00:09</th>\n",
       "      <td>1.112246e+09</td>\n",
       "    </tr>\n",
       "    <tr>\n",
       "      <th>2018-01-15 00:00:10</th>\n",
       "      <td>1.112034e+09</td>\n",
       "    </tr>\n",
       "    <tr>\n",
       "      <th>2018-01-15 00:00:11</th>\n",
       "      <td>1.111960e+09</td>\n",
       "    </tr>\n",
       "    <tr>\n",
       "      <th>2018-01-15 00:00:16</th>\n",
       "      <td>1.112232e+09</td>\n",
       "    </tr>\n",
       "    <tr>\n",
       "      <th>2018-01-15 00:00:18</th>\n",
       "      <td>1.112224e+09</td>\n",
       "    </tr>\n",
       "    <tr>\n",
       "      <th>2018-01-15 00:00:21</th>\n",
       "      <td>1.112238e+09</td>\n",
       "    </tr>\n",
       "    <tr>\n",
       "      <th>2018-01-15 00:00:23</th>\n",
       "      <td>1.112222e+09</td>\n",
       "    </tr>\n",
       "    <tr>\n",
       "      <th>2018-01-15 00:00:24</th>\n",
       "      <td>1.112234e+09</td>\n",
       "    </tr>\n",
       "    <tr>\n",
       "      <th>2018-01-15 00:00:28</th>\n",
       "      <td>1.112248e+09</td>\n",
       "    </tr>\n",
       "    <tr>\n",
       "      <th>2018-01-15 00:00:38</th>\n",
       "      <td>1.112253e+09</td>\n",
       "    </tr>\n",
       "    <tr>\n",
       "      <th>2018-01-15 00:00:41</th>\n",
       "      <td>1.112238e+09</td>\n",
       "    </tr>\n",
       "    <tr>\n",
       "      <th>2018-01-15 00:00:44</th>\n",
       "      <td>1.112244e+09</td>\n",
       "    </tr>\n",
       "    <tr>\n",
       "      <th>2018-01-15 00:00:47</th>\n",
       "      <td>1.112224e+09</td>\n",
       "    </tr>\n",
       "    <tr>\n",
       "      <th>2018-01-15 00:00:48</th>\n",
       "      <td>1.112250e+09</td>\n",
       "    </tr>\n",
       "    <tr>\n",
       "      <th>2018-01-15 00:00:49</th>\n",
       "      <td>1.112253e+09</td>\n",
       "    </tr>\n",
       "    <tr>\n",
       "      <th>2018-01-15 00:00:54</th>\n",
       "      <td>1.112227e+09</td>\n",
       "    </tr>\n",
       "    <tr>\n",
       "      <th>2018-01-15 00:01:13</th>\n",
       "      <td>1.112258e+09</td>\n",
       "    </tr>\n",
       "    <tr>\n",
       "      <th>2018-01-15 00:01:17</th>\n",
       "      <td>1.112226e+09</td>\n",
       "    </tr>\n",
       "    <tr>\n",
       "      <th>2018-01-15 00:01:20</th>\n",
       "      <td>1.112256e+09</td>\n",
       "    </tr>\n",
       "    <tr>\n",
       "      <th>2018-01-15 00:01:23</th>\n",
       "      <td>1.112247e+09</td>\n",
       "    </tr>\n",
       "    <tr>\n",
       "      <th>2018-01-15 00:01:24</th>\n",
       "      <td>1.112258e+09</td>\n",
       "    </tr>\n",
       "    <tr>\n",
       "      <th>2018-01-15 00:01:30</th>\n",
       "      <td>1.112228e+09</td>\n",
       "    </tr>\n",
       "    <tr>\n",
       "      <th>2018-01-15 00:01:35</th>\n",
       "      <td>1.112249e+09</td>\n",
       "    </tr>\n",
       "    <tr>\n",
       "      <th>2018-01-15 00:01:36</th>\n",
       "      <td>1.112254e+09</td>\n",
       "    </tr>\n",
       "    <tr>\n",
       "      <th>2018-01-15 00:01:38</th>\n",
       "      <td>1.112255e+09</td>\n",
       "    </tr>\n",
       "    <tr>\n",
       "      <th>2018-01-15 00:01:41</th>\n",
       "      <td>1.111901e+09</td>\n",
       "    </tr>\n",
       "    <tr>\n",
       "      <th>2018-01-15 00:01:43</th>\n",
       "      <td>1.112034e+09</td>\n",
       "    </tr>\n",
       "    <tr>\n",
       "      <th>2018-01-15 00:01:53</th>\n",
       "      <td>1.111662e+09</td>\n",
       "    </tr>\n",
       "    <tr>\n",
       "      <th>...</th>\n",
       "      <td>...</td>\n",
       "    </tr>\n",
       "    <tr>\n",
       "      <th>2018-02-28 23:58:54</th>\n",
       "      <td>1.112369e+09</td>\n",
       "    </tr>\n",
       "    <tr>\n",
       "      <th>2018-02-28 23:58:55</th>\n",
       "      <td>1.112365e+09</td>\n",
       "    </tr>\n",
       "    <tr>\n",
       "      <th>2018-02-28 23:58:57</th>\n",
       "      <td>1.111662e+09</td>\n",
       "    </tr>\n",
       "    <tr>\n",
       "      <th>2018-02-28 23:58:58</th>\n",
       "      <td>1.112368e+09</td>\n",
       "    </tr>\n",
       "    <tr>\n",
       "      <th>2018-02-28 23:58:59</th>\n",
       "      <td>1.112323e+09</td>\n",
       "    </tr>\n",
       "    <tr>\n",
       "      <th>2018-02-28 23:59:00</th>\n",
       "      <td>1.112350e+09</td>\n",
       "    </tr>\n",
       "    <tr>\n",
       "      <th>2018-02-28 23:59:01</th>\n",
       "      <td>1.112366e+09</td>\n",
       "    </tr>\n",
       "    <tr>\n",
       "      <th>2018-02-28 23:59:02</th>\n",
       "      <td>1.112343e+09</td>\n",
       "    </tr>\n",
       "    <tr>\n",
       "      <th>2018-02-28 23:59:04</th>\n",
       "      <td>1.112345e+09</td>\n",
       "    </tr>\n",
       "    <tr>\n",
       "      <th>2018-02-28 23:59:06</th>\n",
       "      <td>1.112341e+09</td>\n",
       "    </tr>\n",
       "    <tr>\n",
       "      <th>2018-02-28 23:59:09</th>\n",
       "      <td>1.112356e+09</td>\n",
       "    </tr>\n",
       "    <tr>\n",
       "      <th>2018-02-28 23:59:10</th>\n",
       "      <td>1.112352e+09</td>\n",
       "    </tr>\n",
       "    <tr>\n",
       "      <th>2018-02-28 23:59:11</th>\n",
       "      <td>1.112312e+09</td>\n",
       "    </tr>\n",
       "    <tr>\n",
       "      <th>2018-02-28 23:59:13</th>\n",
       "      <td>1.112368e+09</td>\n",
       "    </tr>\n",
       "    <tr>\n",
       "      <th>2018-02-28 23:59:15</th>\n",
       "      <td>1.112225e+09</td>\n",
       "    </tr>\n",
       "    <tr>\n",
       "      <th>2018-02-28 23:59:18</th>\n",
       "      <td>1.112363e+09</td>\n",
       "    </tr>\n",
       "    <tr>\n",
       "      <th>2018-02-28 23:59:19</th>\n",
       "      <td>1.112114e+09</td>\n",
       "    </tr>\n",
       "    <tr>\n",
       "      <th>2018-02-28 23:59:26</th>\n",
       "      <td>1.112363e+09</td>\n",
       "    </tr>\n",
       "    <tr>\n",
       "      <th>2018-02-28 23:59:29</th>\n",
       "      <td>1.112323e+09</td>\n",
       "    </tr>\n",
       "    <tr>\n",
       "      <th>2018-02-28 23:59:33</th>\n",
       "      <td>1.112299e+09</td>\n",
       "    </tr>\n",
       "    <tr>\n",
       "      <th>2018-02-28 23:59:34</th>\n",
       "      <td>1.112349e+09</td>\n",
       "    </tr>\n",
       "    <tr>\n",
       "      <th>2018-02-28 23:59:38</th>\n",
       "      <td>1.112366e+09</td>\n",
       "    </tr>\n",
       "    <tr>\n",
       "      <th>2018-02-28 23:59:39</th>\n",
       "      <td>1.112338e+09</td>\n",
       "    </tr>\n",
       "    <tr>\n",
       "      <th>2018-02-28 23:59:44</th>\n",
       "      <td>1.112334e+09</td>\n",
       "    </tr>\n",
       "    <tr>\n",
       "      <th>2018-02-28 23:59:46</th>\n",
       "      <td>1.112359e+09</td>\n",
       "    </tr>\n",
       "    <tr>\n",
       "      <th>2018-02-28 23:59:47</th>\n",
       "      <td>1.112355e+09</td>\n",
       "    </tr>\n",
       "    <tr>\n",
       "      <th>2018-02-28 23:59:48</th>\n",
       "      <td>1.112345e+09</td>\n",
       "    </tr>\n",
       "    <tr>\n",
       "      <th>2018-02-28 23:59:50</th>\n",
       "      <td>1.112365e+09</td>\n",
       "    </tr>\n",
       "    <tr>\n",
       "      <th>2018-02-28 23:59:54</th>\n",
       "      <td>1.112365e+09</td>\n",
       "    </tr>\n",
       "    <tr>\n",
       "      <th>2018-02-28 23:59:55</th>\n",
       "      <td>1.112364e+09</td>\n",
       "    </tr>\n",
       "  </tbody>\n",
       "</table>\n",
       "<p>1940105 rows × 1 columns</p>\n",
       "</div>"
      ],
      "text/plain": [
       "                          idaviso\n",
       "fechapostulacion                 \n",
       "2018-01-15 00:00:01  1.112205e+09\n",
       "2018-01-15 00:00:02  1.112255e+09\n",
       "2018-01-15 00:00:09  1.112246e+09\n",
       "2018-01-15 00:00:10  1.112034e+09\n",
       "2018-01-15 00:00:11  1.111960e+09\n",
       "2018-01-15 00:00:16  1.112232e+09\n",
       "2018-01-15 00:00:18  1.112224e+09\n",
       "2018-01-15 00:00:21  1.112238e+09\n",
       "2018-01-15 00:00:23  1.112222e+09\n",
       "2018-01-15 00:00:24  1.112234e+09\n",
       "2018-01-15 00:00:28  1.112248e+09\n",
       "2018-01-15 00:00:38  1.112253e+09\n",
       "2018-01-15 00:00:41  1.112238e+09\n",
       "2018-01-15 00:00:44  1.112244e+09\n",
       "2018-01-15 00:00:47  1.112224e+09\n",
       "2018-01-15 00:00:48  1.112250e+09\n",
       "2018-01-15 00:00:49  1.112253e+09\n",
       "2018-01-15 00:00:54  1.112227e+09\n",
       "2018-01-15 00:01:13  1.112258e+09\n",
       "2018-01-15 00:01:17  1.112226e+09\n",
       "2018-01-15 00:01:20  1.112256e+09\n",
       "2018-01-15 00:01:23  1.112247e+09\n",
       "2018-01-15 00:01:24  1.112258e+09\n",
       "2018-01-15 00:01:30  1.112228e+09\n",
       "2018-01-15 00:01:35  1.112249e+09\n",
       "2018-01-15 00:01:36  1.112254e+09\n",
       "2018-01-15 00:01:38  1.112255e+09\n",
       "2018-01-15 00:01:41  1.111901e+09\n",
       "2018-01-15 00:01:43  1.112034e+09\n",
       "2018-01-15 00:01:53  1.111662e+09\n",
       "...                           ...\n",
       "2018-02-28 23:58:54  1.112369e+09\n",
       "2018-02-28 23:58:55  1.112365e+09\n",
       "2018-02-28 23:58:57  1.111662e+09\n",
       "2018-02-28 23:58:58  1.112368e+09\n",
       "2018-02-28 23:58:59  1.112323e+09\n",
       "2018-02-28 23:59:00  1.112350e+09\n",
       "2018-02-28 23:59:01  1.112366e+09\n",
       "2018-02-28 23:59:02  1.112343e+09\n",
       "2018-02-28 23:59:04  1.112345e+09\n",
       "2018-02-28 23:59:06  1.112341e+09\n",
       "2018-02-28 23:59:09  1.112356e+09\n",
       "2018-02-28 23:59:10  1.112352e+09\n",
       "2018-02-28 23:59:11  1.112312e+09\n",
       "2018-02-28 23:59:13  1.112368e+09\n",
       "2018-02-28 23:59:15  1.112225e+09\n",
       "2018-02-28 23:59:18  1.112363e+09\n",
       "2018-02-28 23:59:19  1.112114e+09\n",
       "2018-02-28 23:59:26  1.112363e+09\n",
       "2018-02-28 23:59:29  1.112323e+09\n",
       "2018-02-28 23:59:33  1.112299e+09\n",
       "2018-02-28 23:59:34  1.112349e+09\n",
       "2018-02-28 23:59:38  1.112366e+09\n",
       "2018-02-28 23:59:39  1.112338e+09\n",
       "2018-02-28 23:59:44  1.112334e+09\n",
       "2018-02-28 23:59:46  1.112359e+09\n",
       "2018-02-28 23:59:47  1.112355e+09\n",
       "2018-02-28 23:59:48  1.112345e+09\n",
       "2018-02-28 23:59:50  1.112365e+09\n",
       "2018-02-28 23:59:54  1.112365e+09\n",
       "2018-02-28 23:59:55  1.112364e+09\n",
       "\n",
       "[1940105 rows x 1 columns]"
      ]
     },
     "execution_count": 25,
     "metadata": {},
     "output_type": "execute_result"
    }
   ],
   "source": [
    "business.groupby('fechapostulacion').mean()"
   ]
  },
  {
   "cell_type": "code",
   "execution_count": 1,
   "metadata": {},
   "outputs": [
    {
     "ename": "NameError",
     "evalue": "name 'business' is not defined",
     "output_type": "error",
     "traceback": [
      "\u001b[0;31m---------------------------------------------------------------------------\u001b[0m",
      "\u001b[0;31mNameError\u001b[0m                                 Traceback (most recent call last)",
      "\u001b[0;32m<ipython-input-1-5d0e31426049>\u001b[0m in \u001b[0;36m<module>\u001b[0;34m()\u001b[0m\n\u001b[0;32m----> 1\u001b[0;31m \u001b[0mnombre_dia_semana\u001b[0m \u001b[0;34m=\u001b[0m \u001b[0mbusiness\u001b[0m\u001b[0;34m[\u001b[0m\u001b[0;34m'fechapostulacion'\u001b[0m\u001b[0;34m]\u001b[0m\u001b[0;34m.\u001b[0m\u001b[0mdt\u001b[0m\u001b[0;34m.\u001b[0m\u001b[0mweekday_name\u001b[0m\u001b[0;34m\u001b[0m\u001b[0m\n\u001b[0m",
      "\u001b[0;31mNameError\u001b[0m: name 'business' is not defined"
     ]
    }
   ],
   "source": [
    "nombre_dia_semana = business['fechapostulacion'].dt.weekday_name"
   ]
  },
  {
   "cell_type": "code",
   "execution_count": null,
   "metadata": {},
   "outputs": [],
   "source": [
    "nombre_dia_semana.mean()"
   ]
  },
  {
   "cell_type": "code",
   "execution_count": null,
   "metadata": {},
   "outputs": [],
   "source": [
    "nombre_dia_semana.count"
   ]
  },
  {
   "cell_type": "code",
   "execution_count": null,
   "metadata": {},
   "outputs": [],
   "source": [
    "nombre_dia_semana.head()"
   ]
  },
  {
   "cell_type": "code",
   "execution_count": null,
   "metadata": {},
   "outputs": [],
   "source": []
  }
 ],
 "metadata": {
  "kernelspec": {
   "display_name": "Python 2",
   "language": "python",
   "name": "python2"
  },
  "language_info": {
   "codemirror_mode": {
    "name": "ipython",
    "version": 2
   },
   "file_extension": ".py",
   "mimetype": "text/x-python",
   "name": "python",
   "nbconvert_exporter": "python",
   "pygments_lexer": "ipython2",
   "version": "2.7.14"
  }
 },
 "nbformat": 4,
 "nbformat_minor": 2
}
